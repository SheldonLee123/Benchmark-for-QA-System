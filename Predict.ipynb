{
 "cells": [
  {
   "cell_type": "code",
   "execution_count": 32,
   "metadata": {},
   "outputs": [],
   "source": [
    "import pandas as pd\n",
    "import numpy as np\n",
    "import os\n",
    "from keras.models import load_model\n",
    "from keras.preprocessing.text import Tokenizer"
   ]
  },
  {
   "cell_type": "code",
   "execution_count": 33,
   "metadata": {
    "scrolled": false
   },
   "outputs": [
    {
     "data": {
      "text/html": [
       "<div>\n",
       "<style scoped>\n",
       "    .dataframe tbody tr th:only-of-type {\n",
       "        vertical-align: middle;\n",
       "    }\n",
       "\n",
       "    .dataframe tbody tr th {\n",
       "        vertical-align: top;\n",
       "    }\n",
       "\n",
       "    .dataframe thead th {\n",
       "        text-align: right;\n",
       "    }\n",
       "</style>\n",
       "<table border=\"1\" class=\"dataframe\">\n",
       "  <thead>\n",
       "    <tr style=\"text-align: right;\">\n",
       "      <th></th>\n",
       "      <th>NNQT_question</th>\n",
       "      <th>answer</th>\n",
       "      <th>paraphrased_question</th>\n",
       "      <th>question</th>\n",
       "      <th>sparql_dbpedia18</th>\n",
       "      <th>sparql_wikidata</th>\n",
       "      <th>subgraph</th>\n",
       "      <th>template</th>\n",
       "      <th>template_id</th>\n",
       "      <th>template_index</th>\n",
       "      <th>uid</th>\n",
       "    </tr>\n",
       "  </thead>\n",
       "  <tbody>\n",
       "    <tr>\n",
       "      <th>0</th>\n",
       "      <td>Did {Alexander_Hamilton} {occupation} {lawyer}?</td>\n",
       "      <td>[]</td>\n",
       "      <td>Did Alexander Hamilton practice law?</td>\n",
       "      <td>Is Alexander Hamilton a lawyer?</td>\n",
       "      <td>ASK { ?statement1 &lt;http://www.w3.org/1999/02/...</td>\n",
       "      <td>ASK WHERE { wd:Q178903 wdt:P106 wd:Q40348 }</td>\n",
       "      <td>boolean one_hop right subgraph</td>\n",
       "      <td>Ask (ent-pred-obj)</td>\n",
       "      <td>1</td>\n",
       "      <td>0</td>\n",
       "      <td>0</td>\n",
       "    </tr>\n",
       "    <tr>\n",
       "      <th>1</th>\n",
       "      <td>Did {FC_Barcelona} {chairperson} {Juan José Ib...</td>\n",
       "      <td>[]</td>\n",
       "      <td>Does FC Barcelona have Juan Jose Ibarretxe as ...</td>\n",
       "      <td>Is Juan José Ibarretxe a chairperson of FC Bar...</td>\n",
       "      <td>ASK { ?statement1 &lt;http://www.w3.org/1999/02/...</td>\n",
       "      <td>ASK WHERE { wd:Q7156 wdt:P488 wd:Q351738 }</td>\n",
       "      <td>boolean one_hop right subgraph</td>\n",
       "      <td>Ask (ent-pred-obj`)</td>\n",
       "      <td>1</td>\n",
       "      <td>1</td>\n",
       "      <td>1</td>\n",
       "    </tr>\n",
       "    <tr>\n",
       "      <th>2</th>\n",
       "      <td>Did {Woody_Harrelson} {family name} {Harrelson}?</td>\n",
       "      <td>[]</td>\n",
       "      <td>Is Harrelson the real family name of Woody Har...</td>\n",
       "      <td>Is Woody Harrelson's last name really Harrelson?</td>\n",
       "      <td>ASK { ?statement1 &lt;http://www.w3.org/1999/02/...</td>\n",
       "      <td>ASK WHERE { wd:Q201279 wdt:P734 wd:Q21450338 }</td>\n",
       "      <td>boolean one_hop right subgraph</td>\n",
       "      <td>Ask (ent-pred-obj)</td>\n",
       "      <td>1</td>\n",
       "      <td>2</td>\n",
       "      <td>2</td>\n",
       "    </tr>\n",
       "    <tr>\n",
       "      <th>3</th>\n",
       "      <td>Did {Ivanka_Trump} {occupation} {television pr...</td>\n",
       "      <td>[]</td>\n",
       "      <td>Was Ivonka Trump ever a tv host?</td>\n",
       "      <td>Did Ivanka Trump host a tv show?</td>\n",
       "      <td>ASK { ?statement1 &lt;http://www.w3.org/1999/02/...</td>\n",
       "      <td>ASK WHERE { wd:Q239411 wdt:P106 wd:Q947873 }</td>\n",
       "      <td>boolean one_hop right subgraph</td>\n",
       "      <td>Ask (ent-pred-obj)</td>\n",
       "      <td>1</td>\n",
       "      <td>3</td>\n",
       "      <td>3</td>\n",
       "    </tr>\n",
       "    <tr>\n",
       "      <th>4</th>\n",
       "      <td>Did {Rihanna} {record label} {Motown}?</td>\n",
       "      <td>[]</td>\n",
       "      <td>Has Rihanna ever recorded for Motown?</td>\n",
       "      <td>Did Rihanna recorded the label of Motown?</td>\n",
       "      <td>ASK { ?statement1 &lt;http://www.w3.org/1999/02/...</td>\n",
       "      <td>ASK WHERE { wd:Q36844 wdt:P264 wd:Q43327 }</td>\n",
       "      <td>boolean one_hop right subgraph</td>\n",
       "      <td>Ask (ent-pred-obj`)</td>\n",
       "      <td>1</td>\n",
       "      <td>4</td>\n",
       "      <td>4</td>\n",
       "    </tr>\n",
       "  </tbody>\n",
       "</table>\n",
       "</div>"
      ],
      "text/plain": [
       "                                       NNQT_question answer  \\\n",
       "0    Did {Alexander_Hamilton} {occupation} {lawyer}?     []   \n",
       "1  Did {FC_Barcelona} {chairperson} {Juan José Ib...     []   \n",
       "2   Did {Woody_Harrelson} {family name} {Harrelson}?     []   \n",
       "3  Did {Ivanka_Trump} {occupation} {television pr...     []   \n",
       "4             Did {Rihanna} {record label} {Motown}?     []   \n",
       "\n",
       "                                paraphrased_question  \\\n",
       "0               Did Alexander Hamilton practice law?   \n",
       "1  Does FC Barcelona have Juan Jose Ibarretxe as ...   \n",
       "2  Is Harrelson the real family name of Woody Har...   \n",
       "3                   Was Ivonka Trump ever a tv host?   \n",
       "4              Has Rihanna ever recorded for Motown?   \n",
       "\n",
       "                                            question  \\\n",
       "0                    Is Alexander Hamilton a lawyer?   \n",
       "1  Is Juan José Ibarretxe a chairperson of FC Bar...   \n",
       "2   Is Woody Harrelson's last name really Harrelson?   \n",
       "3                   Did Ivanka Trump host a tv show?   \n",
       "4          Did Rihanna recorded the label of Motown?   \n",
       "\n",
       "                                    sparql_dbpedia18  \\\n",
       "0   ASK { ?statement1 <http://www.w3.org/1999/02/...   \n",
       "1   ASK { ?statement1 <http://www.w3.org/1999/02/...   \n",
       "2   ASK { ?statement1 <http://www.w3.org/1999/02/...   \n",
       "3   ASK { ?statement1 <http://www.w3.org/1999/02/...   \n",
       "4   ASK { ?statement1 <http://www.w3.org/1999/02/...   \n",
       "\n",
       "                                  sparql_wikidata  \\\n",
       "0     ASK WHERE { wd:Q178903 wdt:P106 wd:Q40348 }   \n",
       "1      ASK WHERE { wd:Q7156 wdt:P488 wd:Q351738 }   \n",
       "2  ASK WHERE { wd:Q201279 wdt:P734 wd:Q21450338 }   \n",
       "3    ASK WHERE { wd:Q239411 wdt:P106 wd:Q947873 }   \n",
       "4      ASK WHERE { wd:Q36844 wdt:P264 wd:Q43327 }   \n",
       "\n",
       "                         subgraph             template template_id  \\\n",
       "0  boolean one_hop right subgraph   Ask (ent-pred-obj)           1   \n",
       "1  boolean one_hop right subgraph  Ask (ent-pred-obj`)           1   \n",
       "2  boolean one_hop right subgraph   Ask (ent-pred-obj)           1   \n",
       "3  boolean one_hop right subgraph   Ask (ent-pred-obj)           1   \n",
       "4  boolean one_hop right subgraph  Ask (ent-pred-obj`)           1   \n",
       "\n",
       "  template_index uid  \n",
       "0              0   0  \n",
       "1              1   1  \n",
       "2              2   2  \n",
       "3              3   3  \n",
       "4              4   4  "
      ]
     },
     "execution_count": 33,
     "metadata": {},
     "output_type": "execute_result"
    }
   ],
   "source": [
    "df = pd.read_csv('./dataset/lcquad2/lcquad2.csv').iloc[:, 0:11] \n",
    "df.head()"
   ]
  },
  {
   "cell_type": "code",
   "execution_count": 34,
   "metadata": {},
   "outputs": [
    {
     "data": {
      "text/plain": [
       "766"
      ]
     },
     "execution_count": 34,
     "metadata": {},
     "output_type": "execute_result"
    }
   ],
   "source": [
    "df['question'].isnull().sum()"
   ]
  },
  {
   "cell_type": "code",
   "execution_count": 35,
   "metadata": {},
   "outputs": [],
   "source": [
    "df.dropna(subset=['question'],inplace=True)"
   ]
  },
  {
   "cell_type": "code",
   "execution_count": 36,
   "metadata": {},
   "outputs": [],
   "source": [
    "X_predict = df.question"
   ]
  },
  {
   "cell_type": "code",
   "execution_count": null,
   "metadata": {},
   "outputs": [],
   "source": [
    "df2 = pd.read_csv('./dataset/PosNeg.csv')\n",
    "title = df2.Question"
   ]
  },
  {
   "cell_type": "code",
   "execution_count": 37,
   "metadata": {},
   "outputs": [],
   "source": [
    "# take tokens and build word-in dictionary\n",
    "tokenizer = Tokenizer(filters='!\"#$%&()*+,-./:;<=>?@[\\\\]^_`{|}~\\t\\n',lower=True,split=\" \")\n",
    "tokenizer.fit_on_texts(title)"
   ]
  },
  {
   "cell_type": "code",
   "execution_count": 50,
   "metadata": {},
   "outputs": [
    {
     "name": "stdout",
     "output_type": "stream",
     "text": [
      "[0 0 0 ... 0 1 0]\n",
      "30279\n"
     ]
    }
   ],
   "source": [
    "# X_predict = [\"who was the american general in the pacific during world war ii\",\"where do guyanese people live\",\"what is magic johnsons dads name\"]\n",
    "model = load_model('./model/DenseModel.h5')\n",
    "x_predict_word_ids = tokenizer.texts_to_sequences(X_predict)\n",
    "x_predict = tokenizer.sequences_to_matrix(x_predict_word_ids, mode='binary')\n",
    "predict_test = model.predict(x_predict)\n",
    "predict_result = np.argmax(predict_test,axis=1)                           # 1 temporal   0 no-temporal\n",
    "print(predict_result)\n",
    "print(len(predict_result))"
   ]
  },
  {
   "cell_type": "code",
   "execution_count": 51,
   "metadata": {
    "scrolled": false
   },
   "outputs": [],
   "source": [
    "f0 = open(\"./dataset/lcquad2/output/no-temporal.txt\", \"w\")\n",
    "f1 = open(\"./dataset/lcquad2/output/temporal.txt\", \"w\")\n",
    "for i in range(0, len(X_predict)):\n",
    "    if predict_result[i] == 0:\n",
    "        f0.write(X_predict.iloc[i] + \"\\n\")\n",
    "    elif predict_result[i] == 1:\n",
    "        f1.write(X_predict.iloc[i] + \"\\n\")\n",
    "f0.close()\n",
    "f1.close()"
   ]
  },
  {
   "cell_type": "code",
   "execution_count": null,
   "metadata": {},
   "outputs": [],
   "source": []
  }
 ],
 "metadata": {
  "kernelspec": {
   "display_name": "Python 3",
   "language": "python",
   "name": "python3"
  },
  "language_info": {
   "codemirror_mode": {
    "name": "ipython",
    "version": 3
   },
   "file_extension": ".py",
   "mimetype": "text/x-python",
   "name": "python",
   "nbconvert_exporter": "python",
   "pygments_lexer": "ipython3",
   "version": "3.7.3"
  }
 },
 "nbformat": 4,
 "nbformat_minor": 2
}
