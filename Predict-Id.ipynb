{
 "cells": [
  {
   "cell_type": "code",
   "execution_count": 1,
   "metadata": {},
   "outputs": [
    {
     "name": "stderr",
     "output_type": "stream",
     "text": [
      "Using TensorFlow backend.\n"
     ]
    }
   ],
   "source": [
    "import pandas as pd\n",
    "import numpy as np\n",
    "import os\n",
    "from keras.models import load_model\n",
    "from keras.preprocessing.text import Tokenizer\n",
    "from keras.preprocessing.sequence import pad_sequences"
   ]
  },
  {
   "cell_type": "code",
   "execution_count": 2,
   "metadata": {
    "scrolled": false
   },
   "outputs": [
    {
     "data": {
      "text/html": [
       "<div>\n",
       "<style scoped>\n",
       "    .dataframe tbody tr th:only-of-type {\n",
       "        vertical-align: middle;\n",
       "    }\n",
       "\n",
       "    .dataframe tbody tr th {\n",
       "        vertical-align: top;\n",
       "    }\n",
       "\n",
       "    .dataframe thead th {\n",
       "        text-align: right;\n",
       "    }\n",
       "</style>\n",
       "<table border=\"1\" class=\"dataframe\">\n",
       "  <thead>\n",
       "    <tr style=\"text-align: right;\">\n",
       "      <th></th>\n",
       "      <th>id</th>\n",
       "      <th>question</th>\n",
       "    </tr>\n",
       "  </thead>\n",
       "  <tbody>\n",
       "    <tr>\n",
       "      <th>0</th>\n",
       "      <td>14923</td>\n",
       "      <td>What is  prizewinner  of  sequel is  of  1885 ...</td>\n",
       "    </tr>\n",
       "    <tr>\n",
       "      <th>1</th>\n",
       "      <td>14923</td>\n",
       "      <td>Who won the prize at the sequel of the 1885 Wi...</td>\n",
       "    </tr>\n",
       "    <tr>\n",
       "      <th>2</th>\n",
       "      <td>14923</td>\n",
       "      <td>Who won the prize at the spin-off of the 1885 ...</td>\n",
       "    </tr>\n",
       "    <tr>\n",
       "      <th>3</th>\n",
       "      <td>3708</td>\n",
       "      <td>What is  position held  of  Angela Merkel  tha...</td>\n",
       "    </tr>\n",
       "    <tr>\n",
       "      <th>4</th>\n",
       "      <td>3708</td>\n",
       "      <td>When position did Angela Merkel hold on Novemb...</td>\n",
       "    </tr>\n",
       "  </tbody>\n",
       "</table>\n",
       "</div>"
      ],
      "text/plain": [
       "      id                                           question\n",
       "0  14923  What is  prizewinner  of  sequel is  of  1885 ...\n",
       "1  14923  Who won the prize at the sequel of the 1885 Wi...\n",
       "2  14923  Who won the prize at the spin-off of the 1885 ...\n",
       "3   3708  What is  position held  of  Angela Merkel  tha...\n",
       "4   3708  When position did Angela Merkel hold on Novemb..."
      ]
     },
     "execution_count": 2,
     "metadata": {},
     "output_type": "execute_result"
    }
   ],
   "source": [
    "df = pd.read_csv('./dataset/lcquad2/LcQuadV2_question_with_id.csv')\n",
    "df.head()"
   ]
  },
  {
   "cell_type": "code",
   "execution_count": 3,
   "metadata": {},
   "outputs": [
    {
     "data": {
      "text/plain": [
       "0"
      ]
     },
     "execution_count": 3,
     "metadata": {},
     "output_type": "execute_result"
    }
   ],
   "source": [
    "df['question'].isnull().sum()"
   ]
  },
  {
   "cell_type": "code",
   "execution_count": 4,
   "metadata": {},
   "outputs": [],
   "source": [
    "df.dropna(subset=['question'],inplace=True)"
   ]
  },
  {
   "cell_type": "code",
   "execution_count": 5,
   "metadata": {},
   "outputs": [],
   "source": [
    "X_predict = df.question"
   ]
  },
  {
   "cell_type": "code",
   "execution_count": 6,
   "metadata": {},
   "outputs": [],
   "source": [
    "df2 = pd.read_csv('./dataset/PosNeg.csv')\n",
    "title = df2.Question"
   ]
  },
  {
   "cell_type": "code",
   "execution_count": 7,
   "metadata": {},
   "outputs": [],
   "source": [
    "# take tokens and build word-in dictionary\n",
    "tokenizer = Tokenizer(filters='!\"#$%&()*+,-./:;<=>?@[\\\\]^_`{|}~\\t\\n',lower=True,split=\" \")\n",
    "tokenizer.fit_on_texts(title)"
   ]
  },
  {
   "cell_type": "code",
   "execution_count": 8,
   "metadata": {},
   "outputs": [],
   "source": [
    "#Predict DenseModel\n",
    "# X_predict = [\"who was the american general in the pacific during world war ii\",\"where do guyanese people live\",\"what is magic johnsons dads name\"]\n",
    "# model = load_model('./model/DenseModel.h5')\n",
    "# x_predict_word_ids = tokenizer.texts_to_sequences(X_predict)\n",
    "# x_predict = tokenizer.sequences_to_matrix(x_predict_word_ids, mode='binary')\n",
    "# predict_test = model.predict(x_predict)\n",
    "# predict_result = np.argmax(predict_test,axis=1)                           # 1 temporal   0 no-temporal\n",
    "# print(predict_result)\n",
    "# print(len(predict_result))"
   ]
  },
  {
   "cell_type": "code",
   "execution_count": 9,
   "metadata": {},
   "outputs": [
    {
     "name": "stderr",
     "output_type": "stream",
     "text": [
      "/home/sheldon/anaconda3/envs/tensorflow/lib/python3.6/site-packages/tensorflow_core/python/framework/indexed_slices.py:424: UserWarning: Converting sparse IndexedSlices to a dense Tensor of unknown shape. This may consume a large amount of memory.\n",
      "  \"Converting sparse IndexedSlices to a dense Tensor of unknown shape. \"\n"
     ]
    },
    {
     "name": "stdout",
     "output_type": "stream",
     "text": [
      "[1 1 1 ... 0 1 0]\n",
      "18566\n"
     ]
    }
   ],
   "source": [
    "#Predict CNN\n",
    "# X_predict = [\"Where was Grace Hopper educated at in 1930?\", \"when did lorin Maazel receive a grammy award?\"]\n",
    "model = load_model('./model/CNNModel2.0.h5')\n",
    "x_predict_word_ids = tokenizer.texts_to_sequences(X_predict)\n",
    "x_predict = pad_sequences(x_predict_word_ids, maxlen=20)\n",
    "predict_test = model.predict(x_predict)\n",
    "predict_result = np.argmax(predict_test,axis=1)                           # 1 temporal   0 no-temporal\n",
    "print(predict_result)\n",
    "print(len(predict_result))"
   ]
  },
  {
   "cell_type": "code",
   "execution_count": 10,
   "metadata": {},
   "outputs": [],
   "source": [
    "#Get the id of the question\n",
    "def checkId(predict):\n",
    "    for i in range(0, len(df['question'])):\n",
    "        if predict == df['question'][i]:\n",
    "            return df['id'][i]"
   ]
  },
  {
   "cell_type": "code",
   "execution_count": 11,
   "metadata": {
    "scrolled": false
   },
   "outputs": [],
   "source": [
    "f0 = open(\"./dataset/lcquad2/output/id-no-temporal.txt\", \"w\")\n",
    "f1 = open(\"./dataset/lcquad2/output/id-temporal.txt\", \"w\")\n",
    "for i in range(0, len(X_predict)):\n",
    "    id = str(checkId(X_predict.iloc[i]))\n",
    "    if predict_result[i] == 0:\n",
    "        f0.write(id + \"|||\" + X_predict.iloc[i] + \"\\n\")\n",
    "        f0.write(X_predict.iloc[i] + \"\\n\")\n",
    "    elif predict_result[i] == 1:\n",
    "        f1.write(id + \"|||\" + X_predict.iloc[i] + \"\\n\")\n",
    "        f1.write(X_predict.iloc[i] + \"\\n\")\n",
    "f0.close()\n",
    "f1.close()"
   ]
  },
  {
   "cell_type": "code",
   "execution_count": null,
   "metadata": {},
   "outputs": [],
   "source": []
  }
 ],
 "metadata": {
  "kernelspec": {
   "display_name": "Python 3",
   "language": "python",
   "name": "python3"
  },
  "language_info": {
   "codemirror_mode": {
    "name": "ipython",
    "version": 3
   },
   "file_extension": ".py",
   "mimetype": "text/x-python",
   "name": "python",
   "nbconvert_exporter": "python",
   "pygments_lexer": "ipython3",
   "version": "3.7.3"
  }
 },
 "nbformat": 4,
 "nbformat_minor": 2
}
